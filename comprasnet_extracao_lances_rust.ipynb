{
 "cells": [
  {
   "cell_type": "code",
<<<<<<< HEAD
   "execution_count": 1,
   "metadata": {},
=======
<<<<<<< HEAD
   "execution_count": 1,
   "metadata": {},
=======
   "execution_count": 6,
   "metadata": {
    "vscode": {
     "languageId": "rust"
    }
   },
   "outputs": [],
   "source": [
    ":dep chrono = { version = \"0.4.24\"}\n",
    ":dep polars = { version = \"0.28.0\", features = [\"describe\", \"lazy\", \"ndarray\", \"object\", \"dtype-struct\", \"concat_str\", \"mode\"] }"
   ]
  },
  {
   "cell_type": "code",
   "execution_count": null,
   "metadata": {
    "vscode": {
     "languageId": "rust"
    }
   },
   "outputs": [],
   "source": [
    "use std::*;\n",
    "use std::collections::HashMap;\n",
    "\n",
    "const params_lances: _ = [(\"has_header\", false), (\"separator\", \"\t\"), (\"na_rows\", 100), (\"ignore_errors\", true)].iter().cloned().collect::<HashMap<_,_>>();\n",
    "const df_header: _ = pl.read_csv(\"dados/tbl_lances_header.csv\", true);\n",
    "const df_lances: _ = pl.read_csv(\"dados/tbl_lances.csv\", params_lances);\n",
    "df_header;\n",
    "df_lances;\n",
    "const df_sample: _ = df_lances[41..44];\n",
    "df;"
   ]
  },
  {
   "cell_type": "code",
   "execution_count": null,
   "metadata": {
    "vscode": {
     "languageId": "rust"
    }
   },
>>>>>>> 0904729e2b812bd53ee775190c6e3a0e1bd6da60
>>>>>>> 94fc9206456410dde80b907c2cf284be67a7a9a3
   "outputs": [],
   "source": [
    "import pandas as pd\n",
    "import polars as pl\n",
    "\n",
    "params_lances = {\n",
    "    'has_header': False, \n",
    "    'separator': '\\t',\n",
<<<<<<< HEAD
    "    'n_rows': 100,\n",
=======
<<<<<<< HEAD
    "    'n_rows': 100,\n",
=======
    "    'na_rows': 100,\n",
>>>>>>> 0904729e2b812bd53ee775190c6e3a0e1bd6da60
>>>>>>> 94fc9206456410dde80b907c2cf284be67a7a9a3
    "    'ignore_errors': True,\n",
    "    # 'on_bad_lines': 'skip', \n",
    "    # 'encoding': 'utf-8',\n",
    "    # 'engine': 'c',\n",
    "    # 'engine': 'python',\n",
    "    # 'keep_default_na': False,\n",
    "    }\n",
    "\n",
    "df_header = pl.read_csv('dados/tbl_lances_header.csv', has_header=True)\n",
    "df_lances = pl.read_csv('dados/tbl_lances.csv', **params_lances)\n",
    "# df_lances_encerrados = pd.read_csv('dados/tbl_lances_encerrados.csv', **params_lances)\n",
    "\n",
    "df_header\n",
    "df_lances\n",
<<<<<<< HEAD
=======
<<<<<<< HEAD
>>>>>>> 94fc9206456410dde80b907c2cf284be67a7a9a3
    "# df_lances_encerrados\n",
    "\n",
    "# with open('dados/tbl_lances.csv', 'r') as f:\n",
    "#     df_lances = pl.read_csv(f, **params_lances)\n",
    "\n",
    "# with open('dados/tbl_lances_encerrados.csv', 'r') as f:\n",
    "#     df_lances_encerrados = pl.read_csv(f, **params_lances)\n",
    "\n",
    "# cols = df_header.iloc[0].tolist()\n",
    "\n",
    "# df_lances.columns = cols\n",
    "# df_lances_encerrados.columns = cols\n",
    "\n",
    "# df = pl.concat([df_lances, df_lances_encerrados])\n",
    "\n",
    "# df_sample = df[41:44].replace('\\n', ' ')\n",
    "df_sample = df_lances[41:44]\n",
    "# df_sample\n",
<<<<<<< HEAD
=======
=======
    "\n",
    "df_sample = df_lances[41:44]\n",
>>>>>>> 0904729e2b812bd53ee775190c6e3a0e1bd6da60
>>>>>>> 94fc9206456410dde80b907c2cf284be67a7a9a3
    "\n",
    "# df"
   ]
  }
 ],
 "metadata": {
  "kernelspec": {
<<<<<<< HEAD
=======
<<<<<<< HEAD
>>>>>>> 94fc9206456410dde80b907c2cf284be67a7a9a3
   "display_name": "polars",
   "language": "python",
   "name": "python3"
  },
  "language_info": {
   "codemirror_mode": {
    "name": "ipython",
    "version": 3
   },
   "file_extension": ".py",
   "mimetype": "text/x-python",
   "name": "python",
   "nbconvert_exporter": "python",
   "pygments_lexer": "ipython3",
   "version": "3.10.10"
<<<<<<< HEAD
=======
=======
   "display_name": "Rust",
   "language": "rust",
   "name": "rust"
  },
  "language_info": {
   "codemirror_mode": "rust",
   "file_extension": ".rs",
   "mimetype": "text/rust",
   "name": "Rust",
   "pygment_lexer": "rust",
   "version": ""
>>>>>>> 0904729e2b812bd53ee775190c6e3a0e1bd6da60
>>>>>>> 94fc9206456410dde80b907c2cf284be67a7a9a3
  },
  "orig_nbformat": 4
 },
 "nbformat": 4,
 "nbformat_minor": 2
}
