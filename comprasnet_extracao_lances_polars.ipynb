{
 "cells": [
  {
   "cell_type": "code",
   "execution_count": 1,
   "metadata": {},
   "outputs": [],
   "source": [
    "import pandas as pd\n",
    "import polars as pl\n",
    "\n",
    "params_lances = {\n",
    "    'has_header': False, \n",
    "    'separator': '\\t',\n",
    "    'n_rows': 100,\n",
    "    'ignore_errors': True,\n",
    "    # 'on_bad_lines': 'skip', \n",
    "    # 'encoding': 'utf-8',\n",
    "    # 'engine': 'c',\n",
    "    # 'engine': 'python',\n",
    "    # 'keep_default_na': False,\n",
    "    }\n",
    "\n",
    "df_header = pl.read_csv('dados/tbl_lances_header.csv', has_header=True)\n",
    "df_lances = pl.read_csv('dados/tbl_lances.csv', **params_lances)\n",
    "# df_lances_encerrados = pd.read_csv('dados/tbl_lances_encerrados.csv', **params_lances)\n",
    "\n",
    "df_header\n",
    "df_lances\n",
    "# df_lances_encerrados\n",
    "\n",
    "# with open('dados/tbl_lances.csv', 'r') as f:\n",
    "#     df_lances = pl.read_csv(f, **params_lances)\n",
    "\n",
    "# with open('dados/tbl_lances_encerrados.csv', 'r') as f:\n",
    "#     df_lances_encerrados = pl.read_csv(f, **params_lances)\n",
    "\n",
    "# cols = df_header.iloc[0].tolist()\n",
    "\n",
    "# df_lances.columns = cols\n",
    "# df_lances_encerrados.columns = cols\n",
    "\n",
    "# df = pl.concat([df_lances, df_lances_encerrados])\n",
    "\n",
    "# df_sample = df[41:44].replace('\\n', ' ')\n",
    "df_sample = df_lances[41:44]\n",
    "# df_sample\n",
    "\n",
    "# df"
   ]
  }
 ],
 "metadata": {
  "kernelspec": {
   "display_name": "polars",
   "language": "python",
   "name": "python3"
  },
  "language_info": {
   "codemirror_mode": {
    "name": "ipython",
    "version": 3
   },
   "file_extension": ".py",
   "mimetype": "text/x-python",
   "name": "python",
   "nbconvert_exporter": "python",
   "pygments_lexer": "ipython3",
   "version": "3.10.10"
  },
  "orig_nbformat": 4
 },
 "nbformat": 4,
 "nbformat_minor": 2
}
